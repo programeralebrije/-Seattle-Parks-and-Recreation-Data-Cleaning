{
  "nbformat": 4,
  "nbformat_minor": 0,
  "metadata": {
    "colab": {
      "provenance": [],
      "authorship_tag": "ABX9TyOPEbNnTVp6Y8WtE0hyrZ3b",
      "include_colab_link": true
    },
    "kernelspec": {
      "name": "python3",
      "display_name": "Python 3"
    },
    "language_info": {
      "name": "python"
    }
  },
  "cells": [
    {
      "cell_type": "markdown",
      "metadata": {
        "id": "view-in-github",
        "colab_type": "text"
      },
      "source": [
        "<a href=\"https://colab.research.google.com/github/programeralebrije/-Seattle-Parks-and-Recreation-Data-Cleaning/blob/main/Spend_Tracker_Case_Study_Chime.ipynb\" target=\"_parent\"><img src=\"https://colab.research.google.com/assets/colab-badge.svg\" alt=\"Open In Colab\"/></a>"
      ]
    },
    {
      "cell_type": "markdown",
      "source": [
        "## Acquisition\n",
        "\n",
        "Chime has formulated two hypotheses to assess the impact of the spend tracker feature on respondent distribution:\n",
        "\n",
        "- Average monthly spend for Segment B is higher than Segment A\n",
        "- Members in Segment B are also more likely to have additional bank accounts on top of Chime\n",
        "\n",
        "To determine the cost incurred by Chime to convert one member of the population in the control and test groups, they need to examine whether there is a significant difference between the number of members using the spend tracker and those not using it.\n",
        "\n",
        "In order to compare the average monthly expenditures between Segment A and Segment B, Chime will employ a chi-square test. This statistical analysis will evaluate the relationship between the segments and the groups (test and control) to ascertain if there is a significant disparity in spending habits."
      ],
      "metadata": {
        "id": "q_NPmifui4Za"
      }
    },
    {
      "cell_type": "code",
      "execution_count": 1,
      "metadata": {
        "id": "tCZbQ-fpivks"
      },
      "outputs": [],
      "source": [
        "# importing necessary libraries\n",
        "import pandas as pd\n",
        "import numpy as np\n",
        "import matplotlib.pyplot as plt\n",
        "import seaborn as sns\n",
        "import scipy.stats as stats"
      ]
    },
    {
      "cell_type": "code",
      "source": [],
      "metadata": {
        "id": "unBpRvvCkDTT"
      },
      "execution_count": null,
      "outputs": []
    }
  ]
}