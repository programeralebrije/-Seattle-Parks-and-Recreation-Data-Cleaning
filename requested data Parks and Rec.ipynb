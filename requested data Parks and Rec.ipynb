{
 "cells": [
  {
   "cell_type": "code",
   "execution_count": 1,
   "id": "a4bcfea7",
   "metadata": {},
   "outputs": [],
   "source": [
    "import pandas as pd\n",
    "import numpy as np\n",
    "import seaborn as sns\n",
    "from scipy import stats\n",
    "from scipy.stats import boxcox"
   ]
  },
  {
   "cell_type": "code",
   "execution_count": 2,
   "id": "5ad4e4f3",
   "metadata": {},
   "outputs": [],
   "source": [
    " ParksnRec = pd.read_csv('/Users/rubenlarrazolo/Downloads/Seattle_ParksnRec.csv') "
   ]
  },
  {
   "cell_type": "code",
   "execution_count": 3,
   "id": "0785a339",
   "metadata": {},
   "outputs": [
    {
     "name": "stdout",
     "output_type": "stream",
     "text": [
      "   Geographic Region  Year  # of trips Winter  # of participants Winter  \\\n",
      "0            Central  2005                 13                       154   \n",
      "1            Central  2006                 17                       229   \n",
      "2            Central  2007                 17                       222   \n",
      "3            Central  2008                 18                       300   \n",
      "4            Central  2009                 18                       276   \n",
      "5            Central  2010                 15                       208   \n",
      "6            Central  2011                  5                        54   \n",
      "7            Central  2012                  7                       148   \n",
      "8            Central  2013                  9                        70   \n",
      "9            Central  2014                  4                        49   \n",
      "10           Central  2015                  5                        61   \n",
      "11           Central  2016                  4                        31   \n",
      "12         Northeast  2005                  6                       140   \n",
      "13         Northeast  2006                  9                       164   \n",
      "14         Northeast  2007                  7                       114   \n",
      "15         Northeast  2008                  7                       219   \n",
      "16         Northeast  2009                 14                       216   \n",
      "17         Northeast  2010                 13                       283   \n",
      "18         Northeast  2011                 14                       192   \n",
      "19         Northeast  2012                 14                       238   \n",
      "20         Northeast  2013                 13                       248   \n",
      "21         Northeast  2014                  7                       150   \n",
      "22         Northeast  2015                 10                       225   \n",
      "23         Northeast  2016                  7                       128   \n",
      "24         Northwest  2005                 13                       323   \n",
      "25         Northwest  2006                 15                       245   \n",
      "26         Northwest  2007                 13                       240   \n",
      "27         Northwest  2008                 13                       187   \n",
      "28         Northwest  2009                 11                       187   \n",
      "29         Northwest  2010                 13                       217   \n",
      "30         Northwest  2011                 16                       265   \n",
      "31         Northwest  2012                 15                       246   \n",
      "32         Northwest  2013                 16                       267   \n",
      "33         Northwest  2014                 16                       261   \n",
      "34         Northwest  2015                 14                       209   \n",
      "35         Northwest  2016                 12                       114   \n",
      "36         Southeast  2005                  7                        67   \n",
      "37         Southeast  2006                  6                        59   \n",
      "38         Southeast  2007                  6                        95   \n",
      "39         Southeast  2008                  8                       106   \n",
      "40         Southeast  2009                  9                        41   \n",
      "41         Southeast  2010                  6                        79   \n",
      "42         Southeast  2011                  7                        75   \n",
      "43         Southeast  2012                  3                        45   \n",
      "44         Southeast  2013                  5                        87   \n",
      "45         Southeast  2014                  6                        68   \n",
      "46         Southeast  2015                  4                        49   \n",
      "47         Southeast  2016                  5                        56   \n",
      "48         Southwest  2005                  9                       126   \n",
      "49         Southwest  2006                  9                        96   \n",
      "50         Southwest  2007                  9                        71   \n",
      "51         Southwest  2008                  9                       161   \n",
      "52         Southwest  2009                  8                       106   \n",
      "53         Southwest  2010                  9                       168   \n",
      "54         Southwest  2011                  7                       111   \n",
      "55         Southwest  2012                  8                       154   \n",
      "56         Southwest  2013                  8                       150   \n",
      "57         Southwest  2014                  8                       145   \n",
      "58         Southwest  2015                  8                       106   \n",
      "59         Southwest  2016                  8                       111   \n",
      "\n",
      "    # of trips Spring  # of participants Spring  # of trips Summer  \\\n",
      "0                  18                       290                 20   \n",
      "1                  16                       227                 19   \n",
      "2                  15                       244                 13   \n",
      "3                  19                       335                 20   \n",
      "4                  23                       302                 25   \n",
      "5                  17                       305                 20   \n",
      "6                   6                        89                  9   \n",
      "7                   8                        98                  8   \n",
      "8                   8                        89                 11   \n",
      "9                   5                        54                  5   \n",
      "10                  6                        61                  8   \n",
      "11                 12                       134                  9   \n",
      "12                  5                       150                  9   \n",
      "13                  7                        97                  7   \n",
      "14                 10                       248                  8   \n",
      "15                 13                       199                 13   \n",
      "16                 15                       297                 13   \n",
      "17                 13                       236                 15   \n",
      "18                 15                       339                 14   \n",
      "19                 10                       269                 15   \n",
      "20                 15                       307                 13   \n",
      "21                 14                       302                 11   \n",
      "22                 15                       300                 11   \n",
      "23                  6                       113                  7   \n",
      "24                 12                       177                 11   \n",
      "25                  9                       167                 13   \n",
      "26                 13                       258                 11   \n",
      "27                 13                       224                 13   \n",
      "28                 16                       292                 13   \n",
      "29                 13                       247                 11   \n",
      "30                 11                       367                 12   \n",
      "31                 13                       246                 13   \n",
      "32                 15                       283                 15   \n",
      "33                 10                       298                 13   \n",
      "34                 11                       162                 15   \n",
      "35                  9                       125                 14   \n",
      "36                  9                       109                  6   \n",
      "37                  7                       134                  7   \n",
      "38                  9                       135                 10   \n",
      "39                  5                        51                  7   \n",
      "40                  6                        70                  6   \n",
      "41                  7                        92                  1   \n",
      "42                  4                        51                  4   \n",
      "43                  6                        87                  6   \n",
      "44                  6                       100                  6   \n",
      "45                  9                       127                  9   \n",
      "46                  5                        59                  4   \n",
      "47                  5                        90                  8   \n",
      "48                  9                       173                 10   \n",
      "49                  9                        99                 12   \n",
      "50                  8                       110                 10   \n",
      "51                 10                       171                 10   \n",
      "52                  9                       196                  8   \n",
      "53                  9                       143                  9   \n",
      "54                 10                       197                  9   \n",
      "55                  8                       168                  9   \n",
      "56                  7                       128                  9   \n",
      "57                  8                       131                  8   \n",
      "58                  8                       114                 10   \n",
      "59                  8                       127                  9   \n",
      "\n",
      "    # of participants Summer  # of trips Fall  # of participants Fall  \\\n",
      "0                        267               16                     245   \n",
      "1                        265               16                     280   \n",
      "2                        199               17                     261   \n",
      "3                        283               18                     293   \n",
      "4                        368               28                     426   \n",
      "5                        370               19                     343   \n",
      "6                         96                9                     154   \n",
      "7                         96               10                     104   \n",
      "8                        103                4                      48   \n",
      "9                         82                6                      75   \n",
      "10                        82                6                     104   \n",
      "11                       107                6                      99   \n",
      "12                       255                7                     108   \n",
      "13                       127                7                     169   \n",
      "14                       283                7                     136   \n",
      "15                       314               12                     235   \n",
      "16                       334               14                     314   \n",
      "17                       274               14                     259   \n",
      "18                       341               14                     408   \n",
      "19                       291               13                     302   \n",
      "20                       254                8                     162   \n",
      "21                       244               10                     230   \n",
      "22                       194                9                     139   \n",
      "23                       120                8                     155   \n",
      "24                       223               11                     191   \n",
      "25                       262               13                     270   \n",
      "26                       266               11                     225   \n",
      "27                       264               11                     249   \n",
      "28                       233                9                     201   \n",
      "29                       202               12                     202   \n",
      "30                       211               14                     350   \n",
      "31                       250               13                     287   \n",
      "32                       322               15                     260   \n",
      "33                       213                8                     166   \n",
      "34                       227               12                     172   \n",
      "35                       194               14                     245   \n",
      "36                       141                7                     119   \n",
      "37                       118                5                      85   \n",
      "38                       147                9                     143   \n",
      "39                        79                7                      62   \n",
      "40                        66                9                      62   \n",
      "41                        53               13                     124   \n",
      "42                        65                4                      54   \n",
      "43                       138                8                     113   \n",
      "44                        89                4                      62   \n",
      "45                       135                6                      96   \n",
      "46                        47                5                      78   \n",
      "47                       145                4                      97   \n",
      "48                       131               11                     139   \n",
      "49                       137                9                     153   \n",
      "50                       133               10                     180   \n",
      "51                       171                7                     184   \n",
      "52                       124                9                     193   \n",
      "53                       196                6                     120   \n",
      "54                       156                9                     204   \n",
      "55                       175                8                     150   \n",
      "56                       181                8                     165   \n",
      "57                       120                8                     152   \n",
      "58                       133                9                     126   \n",
      "59                       141                8                     171   \n",
      "\n",
      "    # of trips per year  # participants per year  \\\n",
      "0                    67                      956   \n",
      "1                    68                     1001   \n",
      "2                    62                      926   \n",
      "3                    75                     1211   \n",
      "4                    94                     1372   \n",
      "5                    71                     1226   \n",
      "6                    29                      393   \n",
      "7                    33                      446   \n",
      "8                    32                      310   \n",
      "9                    20                      260   \n",
      "10                   25                      308   \n",
      "11                   31                      371   \n",
      "12                   27                      653   \n",
      "13                   30                      557   \n",
      "14                   32                      781   \n",
      "15                   45                      967   \n",
      "16                   56                     1161   \n",
      "17                   55                     1052   \n",
      "18                   57                     1280   \n",
      "19                   52                     1100   \n",
      "20                   49                      971   \n",
      "21                   42                      926   \n",
      "22                   45                      858   \n",
      "23                   28                      516   \n",
      "24                   47                      914   \n",
      "25                   50                      944   \n",
      "26                   48                      989   \n",
      "27                   50                      924   \n",
      "28                   49                      913   \n",
      "29                   49                      868   \n",
      "30                   53                     1193   \n",
      "31                   54                     1029   \n",
      "32                   61                     1132   \n",
      "33                   47                      938   \n",
      "34                   52                      770   \n",
      "35                   49                      678   \n",
      "36                   29                      436   \n",
      "37                   25                      396   \n",
      "38                   34                      520   \n",
      "39                   27                      298   \n",
      "40                   30                      239   \n",
      "41                   27                      348   \n",
      "42                   19                      245   \n",
      "43                   23                      383   \n",
      "44                   21                      338   \n",
      "45                   30                      426   \n",
      "46                   18                      233   \n",
      "47                   22                      388   \n",
      "48                   39                      569   \n",
      "49                   39                      485   \n",
      "50                   37                      494   \n",
      "51                   36                      687   \n",
      "52                   34                      619   \n",
      "53                   33                      627   \n",
      "54                   35                      668   \n",
      "55                   33                      647   \n",
      "56                   32                      624   \n",
      "57                   32                      548   \n",
      "58                   35                      479   \n",
      "59                   33                      550   \n",
      "\n",
      "    increase/decrease of prior year  Average # people per trip  \n",
      "0                              0.00                      11.85  \n",
      "1                              4.71                      13.47  \n",
      "2                             -7.49                      13.06  \n",
      "3                             30.78                      16.67  \n",
      "4                             13.29                      15.33  \n",
      "5                            -10.64                      13.87  \n",
      "6                            -67.94                      10.80  \n",
      "7                             13.49                      21.14  \n",
      "8                            -30.49                       7.78  \n",
      "9                            -16.13                      12.25  \n",
      "10                            18.46                      12.20  \n",
      "11                            20.45                       7.75  \n",
      "12                             0.00                      23.33  \n",
      "13                           -14.70                      18.22  \n",
      "14                            40.22                      16.29  \n",
      "15                            23.82                      31.29  \n",
      "16                            20.06                      15.43  \n",
      "17                            -9.39                      21.77  \n",
      "18                            21.67                      13.71  \n",
      "19                           -14.06                      17.00  \n",
      "20                           -11.73                      19.08  \n",
      "21                            -4.63                      21.43  \n",
      "22                            -7.34                      22.50  \n",
      "23                           -39.86                      18.29  \n",
      "24                             0.00                      24.85  \n",
      "25                             3.28                      16.33  \n",
      "26                             4.77                      18.46  \n",
      "27                            -6.57                      14.38  \n",
      "28                            -1.19                      17.00  \n",
      "29                            -4.93                      16.69  \n",
      "30                            37.44                      16.56  \n",
      "31                           -13.75                      16.40  \n",
      "32                            10.01                      16.69  \n",
      "33                           -17.14                      16.31  \n",
      "34                           -17.91                      14.93  \n",
      "35                           -11.95                       9.50  \n",
      "36                             0.00                       9.57  \n",
      "37                            -9.17                       9.83  \n",
      "38                            31.31                      15.83  \n",
      "39                           -42.69                      13.25  \n",
      "40                           -19.80                       4.56  \n",
      "41                            45.61                      13.17  \n",
      "42                           -29.60                      10.71  \n",
      "43                            56.33                      15.00  \n",
      "44                           -11.75                      17.40  \n",
      "45                            26.04                      11.33  \n",
      "46                           -45.31                      12.25  \n",
      "47                            66.52                      11.20  \n",
      "48                             0.00                      14.00  \n",
      "49                           -14.76                      10.67  \n",
      "50                             1.86                       7.89  \n",
      "51                            39.07                      17.89  \n",
      "52                            -9.90                      13.25  \n",
      "53                             1.29                      18.67  \n",
      "54                             6.54                      15.86  \n",
      "55                            -3.14                      19.25  \n",
      "56                            -3.55                      18.75  \n",
      "57                           -12.18                      18.13  \n",
      "58                           -12.59                      13.25  \n",
      "59                            14.82                      13.88  \n"
     ]
    }
   ],
   "source": [
    "print (ParksnRec)"
   ]
  },
  {
   "cell_type": "code",
   "execution_count": 4,
   "id": "1fa71b93",
   "metadata": {},
   "outputs": [],
   "source": [
    "pd.options.display.max_columns = None"
   ]
  },
  {
   "cell_type": "code",
   "execution_count": 5,
   "id": "baf42e17",
   "metadata": {},
   "outputs": [
    {
     "data": {
      "text/html": [
       "<div>\n",
       "<style scoped>\n",
       "    .dataframe tbody tr th:only-of-type {\n",
       "        vertical-align: middle;\n",
       "    }\n",
       "\n",
       "    .dataframe tbody tr th {\n",
       "        vertical-align: top;\n",
       "    }\n",
       "\n",
       "    .dataframe thead th {\n",
       "        text-align: right;\n",
       "    }\n",
       "</style>\n",
       "<table border=\"1\" class=\"dataframe\">\n",
       "  <thead>\n",
       "    <tr style=\"text-align: right;\">\n",
       "      <th></th>\n",
       "      <th>Geographic Region</th>\n",
       "      <th>Year</th>\n",
       "      <th># of trips Winter</th>\n",
       "      <th># of participants Winter</th>\n",
       "      <th># of trips Spring</th>\n",
       "      <th># of participants Spring</th>\n",
       "      <th># of trips Summer</th>\n",
       "      <th># of participants Summer</th>\n",
       "      <th># of trips Fall</th>\n",
       "      <th># of participants Fall</th>\n",
       "      <th># of trips per year</th>\n",
       "      <th># participants per year</th>\n",
       "      <th>increase/decrease of prior year</th>\n",
       "      <th>Average # people per trip</th>\n",
       "    </tr>\n",
       "  </thead>\n",
       "  <tbody>\n",
       "    <tr>\n",
       "      <th>0</th>\n",
       "      <td>Central</td>\n",
       "      <td>2005</td>\n",
       "      <td>13</td>\n",
       "      <td>154</td>\n",
       "      <td>18</td>\n",
       "      <td>290</td>\n",
       "      <td>20</td>\n",
       "      <td>267</td>\n",
       "      <td>16</td>\n",
       "      <td>245</td>\n",
       "      <td>67</td>\n",
       "      <td>956</td>\n",
       "      <td>0.00</td>\n",
       "      <td>11.85</td>\n",
       "    </tr>\n",
       "    <tr>\n",
       "      <th>1</th>\n",
       "      <td>Central</td>\n",
       "      <td>2006</td>\n",
       "      <td>17</td>\n",
       "      <td>229</td>\n",
       "      <td>16</td>\n",
       "      <td>227</td>\n",
       "      <td>19</td>\n",
       "      <td>265</td>\n",
       "      <td>16</td>\n",
       "      <td>280</td>\n",
       "      <td>68</td>\n",
       "      <td>1001</td>\n",
       "      <td>4.71</td>\n",
       "      <td>13.47</td>\n",
       "    </tr>\n",
       "    <tr>\n",
       "      <th>2</th>\n",
       "      <td>Central</td>\n",
       "      <td>2007</td>\n",
       "      <td>17</td>\n",
       "      <td>222</td>\n",
       "      <td>15</td>\n",
       "      <td>244</td>\n",
       "      <td>13</td>\n",
       "      <td>199</td>\n",
       "      <td>17</td>\n",
       "      <td>261</td>\n",
       "      <td>62</td>\n",
       "      <td>926</td>\n",
       "      <td>-7.49</td>\n",
       "      <td>13.06</td>\n",
       "    </tr>\n",
       "    <tr>\n",
       "      <th>3</th>\n",
       "      <td>Central</td>\n",
       "      <td>2008</td>\n",
       "      <td>18</td>\n",
       "      <td>300</td>\n",
       "      <td>19</td>\n",
       "      <td>335</td>\n",
       "      <td>20</td>\n",
       "      <td>283</td>\n",
       "      <td>18</td>\n",
       "      <td>293</td>\n",
       "      <td>75</td>\n",
       "      <td>1211</td>\n",
       "      <td>30.78</td>\n",
       "      <td>16.67</td>\n",
       "    </tr>\n",
       "    <tr>\n",
       "      <th>4</th>\n",
       "      <td>Central</td>\n",
       "      <td>2009</td>\n",
       "      <td>18</td>\n",
       "      <td>276</td>\n",
       "      <td>23</td>\n",
       "      <td>302</td>\n",
       "      <td>25</td>\n",
       "      <td>368</td>\n",
       "      <td>28</td>\n",
       "      <td>426</td>\n",
       "      <td>94</td>\n",
       "      <td>1372</td>\n",
       "      <td>13.29</td>\n",
       "      <td>15.33</td>\n",
       "    </tr>\n",
       "  </tbody>\n",
       "</table>\n",
       "</div>"
      ],
      "text/plain": [
       "  Geographic Region  Year  # of trips Winter  # of participants Winter  \\\n",
       "0           Central  2005                 13                       154   \n",
       "1           Central  2006                 17                       229   \n",
       "2           Central  2007                 17                       222   \n",
       "3           Central  2008                 18                       300   \n",
       "4           Central  2009                 18                       276   \n",
       "\n",
       "   # of trips Spring  # of participants Spring  # of trips Summer  \\\n",
       "0                 18                       290                 20   \n",
       "1                 16                       227                 19   \n",
       "2                 15                       244                 13   \n",
       "3                 19                       335                 20   \n",
       "4                 23                       302                 25   \n",
       "\n",
       "   # of participants Summer  # of trips Fall  # of participants Fall  \\\n",
       "0                       267               16                     245   \n",
       "1                       265               16                     280   \n",
       "2                       199               17                     261   \n",
       "3                       283               18                     293   \n",
       "4                       368               28                     426   \n",
       "\n",
       "   # of trips per year  # participants per year  \\\n",
       "0                   67                      956   \n",
       "1                   68                     1001   \n",
       "2                   62                      926   \n",
       "3                   75                     1211   \n",
       "4                   94                     1372   \n",
       "\n",
       "   increase/decrease of prior year  Average # people per trip  \n",
       "0                             0.00                      11.85  \n",
       "1                             4.71                      13.47  \n",
       "2                            -7.49                      13.06  \n",
       "3                            30.78                      16.67  \n",
       "4                            13.29                      15.33  "
      ]
     },
     "execution_count": 5,
     "metadata": {},
     "output_type": "execute_result"
    }
   ],
   "source": [
    "ParksnRec.head()"
   ]
  },
  {
   "cell_type": "code",
   "execution_count": null,
   "id": "98a68cdd",
   "metadata": {},
   "outputs": [],
   "source": []
  },
  {
   "cell_type": "markdown",
   "id": "e1e4df9d",
   "metadata": {},
   "source": [
    "# Transform Positively Skewed Data"
   ]
  },
  {
   "cell_type": "code",
   "execution_count": 16,
   "id": "4fdb34d1",
   "metadata": {},
   "outputs": [],
   "source": [
    "ParksnRec['# of trips WinterSQRT'] = np.sqrt(ParksnRec['# of trips Winter'])"
   ]
  },
  {
   "cell_type": "markdown",
   "id": "bcb2a584",
   "metadata": {},
   "source": [
    "# Trips Winter"
   ]
  },
  {
   "cell_type": "code",
   "execution_count": 35,
   "id": "0f7642f0",
   "metadata": {},
   "outputs": [
    {
     "data": {
      "text/plain": [
       "<seaborn.axisgrid.FacetGrid at 0x7fc745f1e9a0>"
      ]
     },
     "execution_count": 35,
     "metadata": {},
     "output_type": "execute_result"
    },
    {
     "data": {
      "image/png": "[encoded data removed]",
      "text/plain": [
       "<Figure size 360x360 with 1 Axes>"
      ]
     },
     "metadata": {
      "needs_background": "light"
     },
     "output_type": "display_data"
    }
   ],
   "source": [
    "sns.displot(ParksnRec['# of trips WinterSQRT'])"
   ]
  },
  {
   "cell_type": "code",
   "execution_count": 22,
   "id": "3b3908d5",
   "metadata": {},
   "outputs": [],
   "source": [
    "ParksnRec['# of participants WinterSQRT'] = np.sqrt(ParksnRec['# of participants Winter'])"
   ]
  },
  {
   "cell_type": "markdown",
   "id": "13dccd16",
   "metadata": {},
   "source": [
    "# Participants Winter"
   ]
  },
  {
   "cell_type": "code",
   "execution_count": 21,
   "id": "a58ee1ea",
   "metadata": {},
   "outputs": [
    {
     "data": {
      "text/plain": [
       "<seaborn.axisgrid.FacetGrid at 0x7fc7451941f0>"
      ]
     },
     "execution_count": 21,
     "metadata": {},
     "output_type": "execute_result"
    },
    {
     "data": {
      "image/png": "[encoded data removed]",
      "text/plain": [
       "<Figure size 360x360 with 1 Axes>"
      ]
     },
     "metadata": {
      "needs_background": "light"
     },
     "output_type": "display_data"
    }
   ],
   "source": [
    "sns.displot(ParksnRec['# of participants WinterSQRT'])"
   ]
  },
  {
   "cell_type": "code",
   "execution_count": 23,
   "id": "cf95455e",
   "metadata": {},
   "outputs": [],
   "source": [
    "ParksnRec['# of trips SpringSQRT'] = np.sqrt(ParksnRec['# of trips Spring'])"
   ]
  },
  {
   "cell_type": "markdown",
   "id": "664864e3",
   "metadata": {},
   "source": [
    "# Trips Spring"
   ]
  },
  {
   "cell_type": "code",
   "execution_count": 24,
   "id": "60f07b8a",
   "metadata": {},
   "outputs": [
    {
     "data": {
      "text/plain": [
       "<seaborn.axisgrid.FacetGrid at 0x7fc740b74c70>"
      ]
     },
     "execution_count": 24,
     "metadata": {},
     "output_type": "execute_result"
    },
    {
     "data": {
      "image/png": "[encoded data removed]",
      "text/plain": [
       "<Figure size 360x360 with 1 Axes>"
      ]
     },
     "metadata": {
      "needs_background": "light"
     },
     "output_type": "display_data"
    }
   ],
   "source": [
    "sns.displot(ParksnRec['# of trips SpringSQRT'])"
   ]
  },
  {
   "cell_type": "code",
   "execution_count": 25,
   "id": "b05060ec",
   "metadata": {},
   "outputs": [],
   "source": [
    "ParksnRec['# of participants SpringSQRT'] = np.sqrt(ParksnRec['# of participants Spring'])"
   ]
  },
  {
   "cell_type": "markdown",
   "id": "1fec28d8",
   "metadata": {},
   "source": [
    "# Participants Spring"
   ]
  },
  {
   "cell_type": "code",
   "execution_count": 26,
   "id": "05b51890",
   "metadata": {},
   "outputs": [
    {
     "data": {
      "text/plain": [
       "<seaborn.axisgrid.FacetGrid at 0x7fc7457991c0>"
      ]
     },
     "execution_count": 26,
     "metadata": {},
     "output_type": "execute_result"
    },
    {
     "data": {
      "image/png": "[encoded data removed]",
      "text/plain": [
       "<Figure size 360x360 with 1 Axes>"
      ]
     },
     "metadata": {
      "needs_background": "light"
     },
     "output_type": "display_data"
    }
   ],
   "source": [
    "sns.displot(ParksnRec['# of participants SpringSQRT'])"
   ]
  },
  {
   "cell_type": "markdown",
   "id": "5ef3b55a",
   "metadata": {},
   "source": [
    "# Trips Summer"
   ]
  },
  {
   "cell_type": "code",
   "execution_count": 36,
   "id": "4e135717",
   "metadata": {},
   "outputs": [],
   "source": [
    "ParksnRec['# of trips SummerSQRT'] = np.sqrt(ParksnRec['# of trips Summer'])"
   ]
  },
  {
   "cell_type": "code",
   "execution_count": 37,
   "id": "3853bb03",
   "metadata": {},
   "outputs": [
    {
     "data": {
      "text/plain": [
       "<seaborn.axisgrid.FacetGrid at 0x7fc745f1e4c0>"
      ]
     },
     "execution_count": 37,
     "metadata": {},
     "output_type": "execute_result"
    },
    {
     "data": {
      "image/png": "[encoded data removed]",
      "text/plain": [
       "<Figure size 360x360 with 1 Axes>"
      ]
     },
     "metadata": {
      "needs_background": "light"
     },
     "output_type": "display_data"
    }
   ],
   "source": [
    "sns.displot(ParksnRec['# of trips SummerSQRT'])"
   ]
  },
  {
   "cell_type": "markdown",
   "id": "2ab05212",
   "metadata": {},
   "source": [
    "# Participants Summer"
   ]
  },
  {
   "cell_type": "code",
   "execution_count": 38,
   "id": "e6b060b8",
   "metadata": {},
   "outputs": [],
   "source": [
    "ParksnRec['# of participants SummerSQRT'] = np.sqrt(ParksnRec['# of participants Summer'])"
   ]
  },
  {
   "cell_type": "code",
   "execution_count": 39,
   "id": "6dff59d2",
   "metadata": {},
   "outputs": [
    {
     "data": {
      "text/plain": [
       "<seaborn.axisgrid.FacetGrid at 0x7fc7460f5a30>"
      ]
     },
     "execution_count": 39,
     "metadata": {},
     "output_type": "execute_result"
    },
    {
     "data": {
      "image/png": "[encoded data removed]",
      "text/plain": [
       "<Figure size 360x360 with 1 Axes>"
      ]
     },
     "metadata": {
      "needs_background": "light"
     },
     "output_type": "display_data"
    }
   ],
   "source": [
    "sns.displot(ParksnRec['# of participants SummerSQRT'])"
   ]
  },
  {
   "cell_type": "code",
   "execution_count": null,
   "id": "3db57b67",
   "metadata": {},
   "outputs": [],
   "source": []
  }
 ],
 "metadata": {
  "kernelspec": {
   "display_name": "Python 3",
   "language": "python",
   "name": "python3"
  },
  "language_info": {
   "codemirror_mode": {
    "name": "ipython",
    "version": 3
   },
   "file_extension": ".py",
   "mimetype": "text/x-python",
   "name": "python",
   "nbconvert_exporter": "python",
   "pygments_lexer": "ipython3",
   "version": "3.8.8"
  }
 },
 "nbformat": 4,
 "nbformat_minor": 5
}
